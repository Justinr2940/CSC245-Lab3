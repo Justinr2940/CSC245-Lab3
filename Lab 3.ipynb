{
 "cells": [
  {
   "cell_type": "code",
   "outputs": [],
   "source": [
    "import pandas as pd\n",
    "import numpy as np\n",
    "df1 = {'student_id': ['S1', 'S2', 'S3', 'S4', 'S5'],\n",
    "         'name': ['Danniella Fenton', 'Ryder Storey', 'Bryce Jensen', 'Ed Bernal', 'Kwame Morin'],\n",
    "         'marks': [200, 210, 190, 222, 199]}\n",
    "\n",
    "df2 = {'student_id': ['S4', 'S5', 'S6', 'S7', 'S8'],\n",
    "         'name': ['Scarlette Fisher', 'Carla Williamson', 'Dante Morse', 'Kaiser William', 'Madeeha Preston'],\n",
    "         'marks': [201, 200, 198, 219, 201]}"
   ],
   "metadata": {
    "collapsed": false,
    "ExecuteTime": {
     "end_time": "2024-03-13T21:01:53.551690700Z",
     "start_time": "2024-03-13T21:01:53.389301Z"
    }
   },
   "id": "32aedc5a60e06772",
   "execution_count": 42
  },
  {
   "cell_type": "markdown",
   "source": [
    "1. Write a Pandas program to join the two given dataframes along rows and assign all data.\n",
    "Test Data:\n",
    "\n",
    "student_data1:\n",
    "\n",
    "  student_id              name  marks\n",
    "\n",
    "0         S1  Danniella Fenton    200\n",
    "\n",
    "1         S2      Ryder Storey    210\n",
    "\n",
    "2         S3      Bryce Jensen    190\n",
    "\n",
    "3         S4         Ed Bernal    222\n",
    "\n",
    "4         S5       Kwame Morin    199\n",
    "\n",
    "\n",
    "\n",
    "student_data2:\n",
    "\n",
    "  student_id              name  marks\n",
    "\n",
    "0         S4  Scarlette Fisher    201\n",
    "\n",
    "1         S5  Carla Williamson    200\n",
    "\n",
    "2         S6       Dante Morse    198\n",
    "\n",
    "3         S7    Kaiser William    219\n",
    "\n",
    "4         S8   Madeeha Preston    201\n",
    "\n"
   ],
   "metadata": {
    "collapsed": false
   },
   "id": "7d72ef608f1d19a1"
  },
  {
   "cell_type": "code",
   "outputs": [
    {
     "name": "stdout",
     "output_type": "stream",
     "text": [
      "  student_id              name  marks\n",
      "0         S1  Danniella Fenton    200\n",
      "1         S2      Ryder Storey    210\n",
      "2         S3      Bryce Jensen    190\n",
      "3         S4         Ed Bernal    222\n",
      "4         S5       Kwame Morin    199\n",
      "5         S4  Scarlette Fisher    201\n",
      "6         S5  Carla Williamson    200\n",
      "7         S6       Dante Morse    198\n",
      "8         S7    Kaiser William    219\n",
      "9         S8   Madeeha Preston    201\n"
     ]
    }
   ],
   "source": [
    "#Data\n",
    "df1 = {'student_id': ['S1', 'S2', 'S3', 'S4', 'S5'],\n",
    "         'name': ['Danniella Fenton', 'Ryder Storey', 'Bryce Jensen', 'Ed Bernal', 'Kwame Morin'],\n",
    "         'marks': [200, 210, 190, 222, 199]}\n",
    "\n",
    "df2 = {'student_id': ['S4', 'S5', 'S6', 'S7', 'S8'],\n",
    "         'name': ['Scarlette Fisher', 'Carla Williamson', 'Dante Morse', 'Kaiser William', 'Madeeha Preston'],\n",
    "         'marks': [201, 200, 198, 219, 201]}\n",
    "\n",
    "student1 = pd.DataFrame(df1)\n",
    "student2 = pd.DataFrame(df2)\n",
    "\n",
    "merged_data = pd.concat([student1, student2], ignore_index=True)\n",
    "\n",
    "print(merged_data)\n"
   ],
   "metadata": {
    "collapsed": false,
    "ExecuteTime": {
     "end_time": "2024-03-13T21:01:53.587615900Z",
     "start_time": "2024-03-13T21:01:53.558700700Z"
    }
   },
   "id": "d7e8f3d0f27912df",
   "execution_count": 43
  },
  {
   "cell_type": "markdown",
   "source": [
    "2. Write a Pandas program to join the two given dataframes along columns and assign all data.\n",
    "Test Data:\n",
    "\n",
    "student_data1:\n",
    "\n",
    "  student_id              name  marks\n",
    "\n",
    "0         S1  Danniella Fenton    200\n",
    "\n",
    "1         S2      Ryder Storey    210\n",
    "\n",
    "2         S3      Bryce Jensen    190\n",
    "\n",
    "3         S4         Ed Bernal    222\n",
    "\n",
    "4         S5       Kwame Morin    199\n",
    "\n",
    "\n",
    "\n",
    "student_data2:\n",
    "\n",
    "  student_id              name  marks\n",
    "\n",
    "0         S4  Scarlette Fisher    201\n",
    "\n",
    "1         S5  Carla Williamson    200\n",
    "\n",
    "2         S6       Dante Morse    198\n",
    "\n",
    "3         S7    Kaiser William    219\n",
    "\n",
    "4         S8   Madeeha Preston    201"
   ],
   "metadata": {
    "collapsed": false
   },
   "id": "9b5d0f87f0e70b41"
  },
  {
   "cell_type": "code",
   "outputs": [
    {
     "name": "stdout",
     "output_type": "stream",
     "text": [
      "  student_id              name  marks student_id              name  marks\n",
      "0         S1  Danniella Fenton    200         S4  Scarlette Fisher    201\n",
      "1         S2      Ryder Storey    210         S5  Carla Williamson    200\n",
      "2         S3      Bryce Jensen    190         S6       Dante Morse    198\n",
      "3         S4         Ed Bernal    222         S7    Kaiser William    219\n",
      "4         S5       Kwame Morin    199         S8   Madeeha Preston    201\n"
     ]
    }
   ],
   "source": [
    "merged_data = pd.concat([student1, student2], axis= 1)\n",
    "print(merged_data)"
   ],
   "metadata": {
    "collapsed": false,
    "ExecuteTime": {
     "end_time": "2024-03-13T21:01:53.661980Z",
     "start_time": "2024-03-13T21:01:53.596973900Z"
    }
   },
   "id": "634263b9decb3e62",
   "execution_count": 44
  },
  {
   "cell_type": "markdown",
   "source": [
    "3. Write a Pandas program to append rows to an existing DataFrame and display the combined data.\n",
    "Test Data:\n",
    "\n",
    "student_data1\n",
    "\n",
    "  student_id              name  marks\n",
    "\n",
    "0         S1  Danniella Fenton    200\n",
    "\n",
    "1         S2      Ryder Storey    210\n",
    "\n",
    "2         S3      Bryce Jensen    190\n",
    "\n",
    "3         S4         Ed Bernal    222\n",
    "\n",
    "4         S5       Kwame Morin    199\n",
    "\n",
    "\n",
    "\n",
    "New Row(s)\n",
    "\n",
    "student_id                  S6\n",
    "\n",
    "name          Scarlette Fisher\n",
    "\n",
    "marks                      205\n",
    "\n",
    "dtype: object"
   ],
   "metadata": {
    "collapsed": false
   },
   "id": "7ca1379935924a58"
  },
  {
   "cell_type": "code",
   "outputs": [
    {
     "data": {
      "text/plain": "  student_id              name  marks\n0         S1  Danniella Fenton    200\n1         S2      Ryder Storey    210\n2         S3      Bryce Jensen    190\n3         S4         Ed Bernal    222\n4         S5       Kwame Morin    199\n5         S6  Scareltte Fisher    205",
      "text/html": "<div>\n<style scoped>\n    .dataframe tbody tr th:only-of-type {\n        vertical-align: middle;\n    }\n\n    .dataframe tbody tr th {\n        vertical-align: top;\n    }\n\n    .dataframe thead th {\n        text-align: right;\n    }\n</style>\n<table border=\"1\" class=\"dataframe\">\n  <thead>\n    <tr style=\"text-align: right;\">\n      <th></th>\n      <th>student_id</th>\n      <th>name</th>\n      <th>marks</th>\n    </tr>\n  </thead>\n  <tbody>\n    <tr>\n      <th>0</th>\n      <td>S1</td>\n      <td>Danniella Fenton</td>\n      <td>200</td>\n    </tr>\n    <tr>\n      <th>1</th>\n      <td>S2</td>\n      <td>Ryder Storey</td>\n      <td>210</td>\n    </tr>\n    <tr>\n      <th>2</th>\n      <td>S3</td>\n      <td>Bryce Jensen</td>\n      <td>190</td>\n    </tr>\n    <tr>\n      <th>3</th>\n      <td>S4</td>\n      <td>Ed Bernal</td>\n      <td>222</td>\n    </tr>\n    <tr>\n      <th>4</th>\n      <td>S5</td>\n      <td>Kwame Morin</td>\n      <td>199</td>\n    </tr>\n    <tr>\n      <th>5</th>\n      <td>S6</td>\n      <td>Scareltte Fisher</td>\n      <td>205</td>\n    </tr>\n  </tbody>\n</table>\n</div>"
     },
     "execution_count": 45,
     "metadata": {},
     "output_type": "execute_result"
    }
   ],
   "source": [
    "data = {'student_id': ['S1', 'S2', 'S3', 'S4', 'S5'],\n",
    "        'name': ['Danniella Fenton', 'Ryder Storey', 'Bryce Jensen', 'Ed Bernal', 'Kwame Morin'],\n",
    "        'marks': [200, 210, 190, 222, 199]}\n",
    "student = pd.DataFrame(df1)\n",
    "new_row = {'student_id': 'S6', 'name': 'Scareltte Fisher', 'marks': 205}\n",
    "student = pd.concat([student, pd.DataFrame([new_row])], ignore_index=True)\n",
    "student"
   ],
   "metadata": {
    "collapsed": false,
    "ExecuteTime": {
     "end_time": "2024-03-13T21:01:53.687971Z",
     "start_time": "2024-03-13T21:01:53.672981100Z"
    }
   },
   "id": "55b3f3296c61e4b0",
   "execution_count": 45
  },
  {
   "cell_type": "markdown",
   "source": [
    "4. Write a Pandas program to append a list of dictioneries or series to a existing DataFrame and display the combined data.\n",
    "Test Data:\n",
    "\n",
    " student_id              name  marks\n",
    "\n",
    "0         S1  Danniella Fenton    200\n",
    "\n",
    "1         S2      Ryder Storey    210\n",
    "\n",
    "2         S3      Bryce Jensen    190\n",
    "\n",
    "3         S4         Ed Bernal    222\n",
    "\n",
    "4         S5       Kwame Morin    199\n",
    "\n",
    "\n",
    "\n",
    "Dictionary:\n",
    "\n",
    "student_id                  S6\n",
    "\n",
    "name          Scarlette Fisher\n",
    "\n",
    "marks                      205\n",
    "\n",
    "dtype: object"
   ],
   "metadata": {
    "collapsed": false
   },
   "id": "d54ac089b785f268"
  },
  {
   "cell_type": "code",
   "outputs": [],
   "source": [
    "data = {'student_id': ['S1', 'S2', 'S3', 'S4', 'S5'],\n",
    "        'name': ['Danniella Fenton', 'Ryder Storey', 'Bryce Jensen', 'Ed Bernal', 'Kwame Morin'],\n",
    "        'marks': [200, 210, 190, 222, 199]}\n",
    "student = pd.DataFrame(data)\n"
   ],
   "metadata": {
    "collapsed": false,
    "ExecuteTime": {
     "end_time": "2024-03-13T21:01:53.747738700Z",
     "start_time": "2024-03-13T21:01:53.692220200Z"
    }
   },
   "id": "996e826ea0aa3757",
   "execution_count": 46
  },
  {
   "cell_type": "markdown",
   "source": [
    "5. Write a Pandas program to join the two given dataframes along rows and merge with another dataframe along the common column id.\n",
    "Test Data:\n",
    "\n",
    "student_data1:\n",
    "\n",
    "  student_id              name  marks\n",
    "\n",
    "0         S1  Danniella Fenton    200\n",
    "\n",
    "1         S2      Ryder Storey    210\n",
    "\n",
    "2         S3      Bryce Jensen    190\n",
    "\n",
    "3         S4         Ed Bernal    222\n",
    "\n",
    "4         S5       Kwame Morin    199\n",
    "\n",
    "\n",
    "\n",
    "student_data2:\n",
    "\n",
    "  student_id              name  marks\n",
    "\n",
    "0         S4  Scarlette Fisher    201\n",
    "\n",
    "1         S5  Carla Williamson    200\n",
    "\n",
    "2         S6       Dante Morse    198\n",
    "\n",
    "3         S7    Kaiser William    219\n",
    "\n",
    "4         S8   Madeeha Preston    201\n",
    "\n",
    "\n",
    "\n",
    "exam_data:\n",
    "\n",
    "   student_id  exam_id\n",
    "\n",
    "0          S1       23\n",
    "\n",
    "1          S2       45\n",
    "\n",
    "2          S3       12\n",
    "\n",
    "3          S4       67\n",
    "\n",
    "4          S5       21\n",
    "\n",
    "5          S7       55\n",
    "\n",
    "6          S8       33\n",
    "\n",
    "7          S9       14\n",
    "\n",
    "8         S10       56\n",
    "\n",
    "9         S11       83\n",
    "\n",
    "10        S12       88\n",
    "\n",
    "11        S13       12\n",
    "\n"
   ],
   "metadata": {
    "collapsed": false
   },
   "id": "9769b723789c5573"
  },
  {
   "cell_type": "code",
   "outputs": [],
   "source": [
    "student1 = pd.DataFrame(df1)\n",
    "student2 = pd.DataFrame(df2)\n",
    "exam_data = pd.DataFrame({\n",
    "    'student_id': ['S1', 'S2', 'S3', 'S4', 'S5', 'S7', 'S8', 'S9', 'S10', 'S11', 'S12', 'S13'],\n",
    "    'exam_id': [23, 45, 12, 67, 21, 55, 33, 14, 56, 83, 88, 12]\n",
    "})"
   ],
   "metadata": {
    "collapsed": false,
    "ExecuteTime": {
     "end_time": "2024-03-13T21:01:53.833208900Z",
     "start_time": "2024-03-13T21:01:53.755991300Z"
    }
   },
   "id": "afac7e97b77e4057",
   "execution_count": 47
  },
  {
   "cell_type": "markdown",
   "source": [
    "6. Write a Pandas program to join the two dataframes using the common column of both dataframes.\n",
    "Test Data:\n",
    "\n",
    "student_data1:\n",
    "\n",
    "  student_id              name  marks\n",
    "\n",
    "0         S1  Danniella Fenton    200\n",
    "\n",
    "1         S2      Ryder Storey    210\n",
    "\n",
    "2         S3      Bryce Jensen    190\n",
    "\n",
    "3         S4         Ed Bernal    222\n",
    "\n",
    "4         S5       Kwame Morin    199\n",
    "\n",
    "\n",
    "\n",
    "student_data2:\n",
    "\n",
    "  student_id              name  marks\n",
    "\n",
    "0         S4  Scarlette Fisher    201\n",
    "\n",
    "1         S5  Carla Williamson    200\n",
    "\n",
    "2         S6       Dante Morse    198\n",
    "\n",
    "3         S7    Kaiser William    219\n",
    "\n",
    "4         S8   Madeeha Preston    201\n",
    "\n"
   ],
   "metadata": {
    "collapsed": false
   },
   "id": "fce9c3bfe2070530"
  },
  {
   "cell_type": "code",
   "outputs": [
    {
     "data": {
      "text/plain": "  student_id       name_1  marks_1            name_2  marks_2\n0         S4    Ed Bernal      222  Scarlette Fisher      201\n1         S5  Kwame Morin      199  Carla Williamson      200",
      "text/html": "<div>\n<style scoped>\n    .dataframe tbody tr th:only-of-type {\n        vertical-align: middle;\n    }\n\n    .dataframe tbody tr th {\n        vertical-align: top;\n    }\n\n    .dataframe thead th {\n        text-align: right;\n    }\n</style>\n<table border=\"1\" class=\"dataframe\">\n  <thead>\n    <tr style=\"text-align: right;\">\n      <th></th>\n      <th>student_id</th>\n      <th>name_1</th>\n      <th>marks_1</th>\n      <th>name_2</th>\n      <th>marks_2</th>\n    </tr>\n  </thead>\n  <tbody>\n    <tr>\n      <th>0</th>\n      <td>S4</td>\n      <td>Ed Bernal</td>\n      <td>222</td>\n      <td>Scarlette Fisher</td>\n      <td>201</td>\n    </tr>\n    <tr>\n      <th>1</th>\n      <td>S5</td>\n      <td>Kwame Morin</td>\n      <td>199</td>\n      <td>Carla Williamson</td>\n      <td>200</td>\n    </tr>\n  </tbody>\n</table>\n</div>"
     },
     "execution_count": 48,
     "metadata": {},
     "output_type": "execute_result"
    }
   ],
   "source": [
    "student1 = pd.DataFrame(df1)\n",
    "student2 = pd.DataFrame(df2)\n",
    "joined_data = pd.merge(student1, student2, on='student_id', how='inner', suffixes=('_1', '_2'))\n",
    "joined_data"
   ],
   "metadata": {
    "collapsed": false,
    "ExecuteTime": {
     "end_time": "2024-03-13T21:01:53.905082100Z",
     "start_time": "2024-03-13T21:01:53.849394700Z"
    }
   },
   "id": "70ae2fa4cff52d8f",
   "execution_count": 48
  },
  {
   "cell_type": "markdown",
   "source": [
    "7. Write a Pandas program to join the two dataframes with matching records from both sides where available.\n",
    "Test Data:\n",
    "\n",
    "student_data1:\n",
    "\n",
    "  student_id              name  marks\n",
    "\n",
    "0         S1  Danniella Fenton    200\n",
    "\n",
    "1         S2      Ryder Storey    210\n",
    "\n",
    "2         S3      Bryce Jensen    190\n",
    "\n",
    "3         S4         Ed Bernal    222\n",
    "\n",
    "4         S5       Kwame Morin    199\n",
    "\n",
    "\n",
    "\n",
    "student_data2:\n",
    "\n",
    "  student_id              name  marks\n",
    "\n",
    "0         S4  Scarlette Fisher    201\n",
    "\n",
    "1         S5  Carla Williamson    200\n",
    "\n",
    "2         S6       Dante Morse    198\n",
    "\n",
    "3         S7    Kaiser William    219\n",
    "\n",
    "4         S8   Madeeha Preston    201\n",
    "\n"
   ],
   "metadata": {
    "collapsed": false
   },
   "id": "16bffc1bf7167b73"
  },
  {
   "cell_type": "code",
   "outputs": [
    {
     "data": {
      "text/plain": "  student_id       name_1  marks_1            name_2  marks_2\n0         S4    Ed Bernal      222  Scarlette Fisher      201\n1         S5  Kwame Morin      199  Carla Williamson      200",
      "text/html": "<div>\n<style scoped>\n    .dataframe tbody tr th:only-of-type {\n        vertical-align: middle;\n    }\n\n    .dataframe tbody tr th {\n        vertical-align: top;\n    }\n\n    .dataframe thead th {\n        text-align: right;\n    }\n</style>\n<table border=\"1\" class=\"dataframe\">\n  <thead>\n    <tr style=\"text-align: right;\">\n      <th></th>\n      <th>student_id</th>\n      <th>name_1</th>\n      <th>marks_1</th>\n      <th>name_2</th>\n      <th>marks_2</th>\n    </tr>\n  </thead>\n  <tbody>\n    <tr>\n      <th>0</th>\n      <td>S4</td>\n      <td>Ed Bernal</td>\n      <td>222</td>\n      <td>Scarlette Fisher</td>\n      <td>201</td>\n    </tr>\n    <tr>\n      <th>1</th>\n      <td>S5</td>\n      <td>Kwame Morin</td>\n      <td>199</td>\n      <td>Carla Williamson</td>\n      <td>200</td>\n    </tr>\n  </tbody>\n</table>\n</div>"
     },
     "execution_count": 49,
     "metadata": {},
     "output_type": "execute_result"
    }
   ],
   "source": [
    "matched_records = pd.merge(student1, student2, on='student_id', how='inner', suffixes=('_1', '_2'))\n",
    "matched_records"
   ],
   "metadata": {
    "collapsed": false,
    "ExecuteTime": {
     "end_time": "2024-03-13T21:01:53.990545800Z",
     "start_time": "2024-03-13T21:01:53.909045500Z"
    }
   },
   "id": "14748120aa3f0b5",
   "execution_count": 49
  },
  {
   "cell_type": "markdown",
   "source": [
    "8. Write a Pandas program to join (left join) the two dataframes using keys from left dataframe only.\n",
    "Test Data:\n",
    "\n",
    "data1:\n",
    "\n",
    "  key1 key2   P   Q\n",
    "\n",
    "0   K0   K0  P0  Q0\n",
    "\n",
    "1   K0   K1  P1  Q1\n",
    "\n",
    "2   K1   K0  P2  Q2\n",
    "\n",
    "3   K2   K1  P3  Q3\n",
    "\n",
    "\n",
    "\n",
    "data2:\n",
    "\n",
    "  key1 key2   R   S\n",
    "\n",
    "0   K0   K0  R0  S0\n",
    "\n",
    "1   K1   K0  R1  S1\n",
    "\n",
    "2   K1   K0  R2  S2\n",
    "\n",
    "3   K2   K0  R3  S3\n",
    "\n"
   ],
   "metadata": {
    "collapsed": false
   },
   "id": "30f81ec4fbe6cb8f"
  },
  {
   "cell_type": "code",
   "outputs": [
    {
     "data": {
      "text/plain": "  key1 key2   P   Q    R    S\n0   K0   K0  P0  Q0   R0   S0\n1   K0   K1  P1  Q1  NaN  NaN\n2   K1   K0  P2  Q2   R1   S1\n3   K1   K0  P2  Q2   R2   S2\n4   K2   K1  P3  Q3  NaN  NaN",
      "text/html": "<div>\n<style scoped>\n    .dataframe tbody tr th:only-of-type {\n        vertical-align: middle;\n    }\n\n    .dataframe tbody tr th {\n        vertical-align: top;\n    }\n\n    .dataframe thead th {\n        text-align: right;\n    }\n</style>\n<table border=\"1\" class=\"dataframe\">\n  <thead>\n    <tr style=\"text-align: right;\">\n      <th></th>\n      <th>key1</th>\n      <th>key2</th>\n      <th>P</th>\n      <th>Q</th>\n      <th>R</th>\n      <th>S</th>\n    </tr>\n  </thead>\n  <tbody>\n    <tr>\n      <th>0</th>\n      <td>K0</td>\n      <td>K0</td>\n      <td>P0</td>\n      <td>Q0</td>\n      <td>R0</td>\n      <td>S0</td>\n    </tr>\n    <tr>\n      <th>1</th>\n      <td>K0</td>\n      <td>K1</td>\n      <td>P1</td>\n      <td>Q1</td>\n      <td>NaN</td>\n      <td>NaN</td>\n    </tr>\n    <tr>\n      <th>2</th>\n      <td>K1</td>\n      <td>K0</td>\n      <td>P2</td>\n      <td>Q2</td>\n      <td>R1</td>\n      <td>S1</td>\n    </tr>\n    <tr>\n      <th>3</th>\n      <td>K1</td>\n      <td>K0</td>\n      <td>P2</td>\n      <td>Q2</td>\n      <td>R2</td>\n      <td>S2</td>\n    </tr>\n    <tr>\n      <th>4</th>\n      <td>K2</td>\n      <td>K1</td>\n      <td>P3</td>\n      <td>Q3</td>\n      <td>NaN</td>\n      <td>NaN</td>\n    </tr>\n  </tbody>\n</table>\n</div>"
     },
     "execution_count": 50,
     "metadata": {},
     "output_type": "execute_result"
    }
   ],
   "source": [
    "df1 = pd.DataFrame({\n",
    "    'key1': ['K0', 'K0', 'K1', 'K2'],\n",
    "    'key2': ['K0', 'K1', 'K0', 'K1'],\n",
    "    'P': ['P0', 'P1', 'P2', 'P3'],\n",
    "    'Q': ['Q0', 'Q1', 'Q2', 'Q3']\n",
    "})\n",
    "\n",
    "df2 = pd.DataFrame({\n",
    "    'key1': ['K0', 'K1', 'K1', 'K2'],\n",
    "    'key2': ['K0', 'K0', 'K0', 'K0'],\n",
    "    'R': ['R0', 'R1', 'R2', 'R3'],\n",
    "    'S': ['S0', 'S1', 'S2', 'S3']\n",
    "})\n",
    "left_join = pd.merge(df1, df2, on=['key1', 'key2'], how = 'left', suffixes=('_1', '_2'))\n",
    "left_join"
   ],
   "metadata": {
    "collapsed": false,
    "ExecuteTime": {
     "end_time": "2024-03-13T21:01:54.078264100Z",
     "start_time": "2024-03-13T21:01:53.938344800Z"
    }
   },
   "id": "803c05c98a306530",
   "execution_count": 50
  },
  {
   "cell_type": "markdown",
   "source": [
    "9. Write a Pandas program to join two dataframes using keys from right dataframe only.\n",
    "Test Data:\n",
    "\n",
    "data1:\n",
    "\n",
    "  key1 key2   P   Q\n",
    "\n",
    "0   K0   K0  P0  Q0\n",
    "\n",
    "1   K0   K1  P1  Q1\n",
    "\n",
    "2   K1   K0  P2  Q2\n",
    "\n",
    "3   K2   K1  P3  Q3\n",
    "\n",
    "\n",
    "\n",
    "data2:\n",
    "\n",
    "  key1 key2   R   S\n",
    "\n",
    "0   K0   K0  R0  S0\n",
    "\n",
    "1   K1   K0  R1  S1\n",
    "\n",
    "2   K1   K0  R2  S2\n",
    "\n",
    "3   K2   K0  R3  S3"
   ],
   "metadata": {
    "collapsed": false
   },
   "id": "e3e263e4d1391448"
  },
  {
   "cell_type": "code",
   "outputs": [
    {
     "data": {
      "text/plain": "  key1 key2    P    Q   R   S\n0   K0   K0   P0   Q0  R0  S0\n1   K1   K0   P2   Q2  R1  S1\n2   K1   K0   P2   Q2  R2  S2\n3   K2   K0  NaN  NaN  R3  S3",
      "text/html": "<div>\n<style scoped>\n    .dataframe tbody tr th:only-of-type {\n        vertical-align: middle;\n    }\n\n    .dataframe tbody tr th {\n        vertical-align: top;\n    }\n\n    .dataframe thead th {\n        text-align: right;\n    }\n</style>\n<table border=\"1\" class=\"dataframe\">\n  <thead>\n    <tr style=\"text-align: right;\">\n      <th></th>\n      <th>key1</th>\n      <th>key2</th>\n      <th>P</th>\n      <th>Q</th>\n      <th>R</th>\n      <th>S</th>\n    </tr>\n  </thead>\n  <tbody>\n    <tr>\n      <th>0</th>\n      <td>K0</td>\n      <td>K0</td>\n      <td>P0</td>\n      <td>Q0</td>\n      <td>R0</td>\n      <td>S0</td>\n    </tr>\n    <tr>\n      <th>1</th>\n      <td>K1</td>\n      <td>K0</td>\n      <td>P2</td>\n      <td>Q2</td>\n      <td>R1</td>\n      <td>S1</td>\n    </tr>\n    <tr>\n      <th>2</th>\n      <td>K1</td>\n      <td>K0</td>\n      <td>P2</td>\n      <td>Q2</td>\n      <td>R2</td>\n      <td>S2</td>\n    </tr>\n    <tr>\n      <th>3</th>\n      <td>K2</td>\n      <td>K0</td>\n      <td>NaN</td>\n      <td>NaN</td>\n      <td>R3</td>\n      <td>S3</td>\n    </tr>\n  </tbody>\n</table>\n</div>"
     },
     "execution_count": 51,
     "metadata": {},
     "output_type": "execute_result"
    }
   ],
   "source": [
    "right_join = pd.merge(df1, df2, on = ['key1', 'key2'], how = 'right', suffixes=('_1', '_2'))\n",
    "right_join"
   ],
   "metadata": {
    "collapsed": false,
    "ExecuteTime": {
     "end_time": "2024-03-13T21:01:54.143411400Z",
     "start_time": "2024-03-13T21:01:54.045563100Z"
    }
   },
   "id": "1b81212aa3c10024",
   "execution_count": 51
  },
  {
   "cell_type": "markdown",
   "source": [
    "10. Write a Pandas program to merge two given datasets using multiple join keys.\n",
    "Test Data:\n",
    "\n",
    "data1:\n",
    "\n",
    "  key1 key2   P   Q\n",
    "\n",
    "0   K0   K0  P0  Q0\n",
    "\n",
    "1   K0   K1  P1  Q1\n",
    "\n",
    "2   K1   K0  P2  Q2\n",
    "\n",
    "3   K2   K1  P3  Q3\n",
    "\n",
    "\n",
    "\n",
    "data2:\n",
    "\n",
    "  key1 key2   R   S\n",
    "\n",
    "0   K0   K0  R0  S0\n",
    "\n",
    "1   K1   K0  R1  S1\n",
    "\n",
    "2   K1   K0  R2  S2\n",
    "\n",
    "3   K2   K0  R3  S3"
   ],
   "metadata": {
    "collapsed": false
   },
   "id": "94da938acc4c2adf"
  },
  {
   "cell_type": "code",
   "outputs": [
    {
     "data": {
      "text/plain": "  key1 key2   P   Q   R   S\n0   K0   K0  P0  Q0  R0  S0\n1   K1   K0  P2  Q2  R1  S1\n2   K1   K0  P2  Q2  R2  S2",
      "text/html": "<div>\n<style scoped>\n    .dataframe tbody tr th:only-of-type {\n        vertical-align: middle;\n    }\n\n    .dataframe tbody tr th {\n        vertical-align: top;\n    }\n\n    .dataframe thead th {\n        text-align: right;\n    }\n</style>\n<table border=\"1\" class=\"dataframe\">\n  <thead>\n    <tr style=\"text-align: right;\">\n      <th></th>\n      <th>key1</th>\n      <th>key2</th>\n      <th>P</th>\n      <th>Q</th>\n      <th>R</th>\n      <th>S</th>\n    </tr>\n  </thead>\n  <tbody>\n    <tr>\n      <th>0</th>\n      <td>K0</td>\n      <td>K0</td>\n      <td>P0</td>\n      <td>Q0</td>\n      <td>R0</td>\n      <td>S0</td>\n    </tr>\n    <tr>\n      <th>1</th>\n      <td>K1</td>\n      <td>K0</td>\n      <td>P2</td>\n      <td>Q2</td>\n      <td>R1</td>\n      <td>S1</td>\n    </tr>\n    <tr>\n      <th>2</th>\n      <td>K1</td>\n      <td>K0</td>\n      <td>P2</td>\n      <td>Q2</td>\n      <td>R2</td>\n      <td>S2</td>\n    </tr>\n  </tbody>\n</table>\n</div>"
     },
     "execution_count": 52,
     "metadata": {},
     "output_type": "execute_result"
    }
   ],
   "source": [
    "merged_data = pd.merge(df1, df2, on=['key1', 'key2'])\n",
    "merged_data"
   ],
   "metadata": {
    "collapsed": false,
    "ExecuteTime": {
     "end_time": "2024-03-13T21:01:54.345848100Z",
     "start_time": "2024-03-13T21:01:54.156875200Z"
    }
   },
   "id": "bc09272b4a6d8d0c",
   "execution_count": 52
  },
  {
   "cell_type": "markdown",
   "source": [
    "11. Write a Pandas program to create a new DataFrame based on existing series, using specified argument and override the existing columns names.\n"
   ],
   "metadata": {
    "collapsed": false
   },
   "id": "d6c5b1d439c6a7e8"
  },
  {
   "cell_type": "code",
   "outputs": [
    {
     "data": {
      "text/plain": "   Number Letter\n0       1      A\n1       2      B\n2       3      C\n3       4      D\n4       5      E",
      "text/html": "<div>\n<style scoped>\n    .dataframe tbody tr th:only-of-type {\n        vertical-align: middle;\n    }\n\n    .dataframe tbody tr th {\n        vertical-align: top;\n    }\n\n    .dataframe thead th {\n        text-align: right;\n    }\n</style>\n<table border=\"1\" class=\"dataframe\">\n  <thead>\n    <tr style=\"text-align: right;\">\n      <th></th>\n      <th>Number</th>\n      <th>Letter</th>\n    </tr>\n  </thead>\n  <tbody>\n    <tr>\n      <th>0</th>\n      <td>1</td>\n      <td>A</td>\n    </tr>\n    <tr>\n      <th>1</th>\n      <td>2</td>\n      <td>B</td>\n    </tr>\n    <tr>\n      <th>2</th>\n      <td>3</td>\n      <td>C</td>\n    </tr>\n    <tr>\n      <th>3</th>\n      <td>4</td>\n      <td>D</td>\n    </tr>\n    <tr>\n      <th>4</th>\n      <td>5</td>\n      <td>E</td>\n    </tr>\n  </tbody>\n</table>\n</div>"
     },
     "execution_count": 53,
     "metadata": {},
     "output_type": "execute_result"
    }
   ],
   "source": [
    "series1 = pd.Series([1, 2, 3, 4, 5])\n",
    "series2 = pd.Series(['A', 'B', 'C', 'D', 'E'])\n",
    "column_names = ['Number', 'Letter']\n",
    "df3 = pd.DataFrame({column_names[0]: series1, column_names[1]:series2})\n",
    "df3"
   ],
   "metadata": {
    "collapsed": false,
    "ExecuteTime": {
     "end_time": "2024-03-13T21:01:54.409617100Z",
     "start_time": "2024-03-13T21:01:54.276874100Z"
    }
   },
   "id": "995786c1ae9cb170",
   "execution_count": 53
  },
  {
   "cell_type": "markdown",
   "source": [
    "12. Write a Pandas program to create a combination from two dataframes where a column id combination appears more than once in both dataframes.\n",
    "Test Data:\n",
    "\n",
    "data1:\n",
    "\n",
    "  key1 key2   P   Q\n",
    "\n",
    "0   K0   K0  P0  Q0\n",
    "\n",
    "1   K0   K1  P1  Q1\n",
    "\n",
    "2   K1   K0  P2  Q2\n",
    "\n",
    "3   K2   K1  P3  Q3\n",
    "\n",
    "\n",
    "\n",
    "data2:\n",
    "\n",
    "  key1 key2   R   S\n",
    "\n",
    "0   K0   K0  R0  S0\n",
    "\n",
    "1   K1   K0  R1  S1\n",
    "\n",
    "2   K1   K0  R2  S2\n",
    "\n",
    "3   K2   K0  R3  S3"
   ],
   "metadata": {
    "collapsed": false
   },
   "id": "472b13061ef8a23"
  },
  {
   "cell_type": "code",
   "outputs": [
    {
     "name": "stdout",
     "output_type": "stream",
     "text": [
      "  key1 key2   P   Q   R   S\n",
      "1   K1   K0  P2  Q2  R1  S1\n",
      "2   K1   K0  P2  Q2  R2  S2\n"
     ]
    }
   ],
   "source": [
    "data1 = pd.DataFrame({\n",
    "    'key1': ['K0', 'K0', 'K1', 'K2'],\n",
    "    'key2': ['K0', 'K1', 'K0', 'K1'],\n",
    "    'P': ['P0', 'P1', 'P2', 'P3'],\n",
    "    'Q': ['Q0', 'Q1', 'Q2', 'Q3']\n",
    "})\n",
    "\n",
    "data2 = pd.DataFrame({\n",
    "    'key1': ['K0', 'K1', 'K1', 'K2'],\n",
    "    'key2': ['K0', 'K0', 'K0', 'K0'],\n",
    "    'R': ['R0', 'R1', 'R2', 'R3'],\n",
    "    'S': ['S0', 'S1', 'S2', 'S3']\n",
    "})\n",
    "merged_data = pd.merge(data1, data2, on=['key1', 'key2'], how='inner')\n",
    "\n",
    "combinations = merged_data[merged_data.duplicated(subset=['key1', 'key2'], keep=False)]\n",
    "\n",
    "print(combinations)"
   ],
   "metadata": {
    "collapsed": false,
    "ExecuteTime": {
     "end_time": "2024-03-13T21:01:54.599312100Z",
     "start_time": "2024-03-13T21:01:54.377817700Z"
    }
   },
   "id": "b17fa9d1842f5dab",
   "execution_count": 54
  },
  {
   "cell_type": "markdown",
   "source": [
    "13. Write a Pandas program to combine the columns of two potentially differently-indexed DataFrames into a single result DataFrame.\n",
    "Test Data:\n",
    "\n",
    "data1:\n",
    "\n",
    "     A   B\n",
    "\n",
    "K0  A0  B0\n",
    "\n",
    "K1  A1  B1\n",
    "\n",
    "K2  A2  B2\n",
    "\n",
    "\n",
    "\n",
    "data2:\n",
    "\n",
    "     C   D\n",
    "\n",
    "K0  C0  D0\n",
    "\n",
    "K2  C2  D2\n",
    "\n",
    "K3  C3  D3"
   ],
   "metadata": {
    "collapsed": false
   },
   "id": "e2128d3445b1b0e2"
  },
  {
   "cell_type": "code",
   "outputs": [
    {
     "name": "stdout",
     "output_type": "stream",
     "text": [
      "      A    B    C    D\n",
      "K0   A0   B0   C0   D0\n",
      "K1   A1   B1  NaN  NaN\n",
      "K2   A2   B2   C2   D2\n",
      "K3  NaN  NaN   C3   D3\n"
     ]
    }
   ],
   "source": [
    "data1 = pd.DataFrame({\n",
    "    'A': ['A0', 'A1', 'A2'],\n",
    "    'B': ['B0', 'B1', 'B2']\n",
    "}, index=['K0', 'K1', 'K2'])\n",
    "\n",
    "data2 = pd.DataFrame({\n",
    "    'C': ['C0', 'C2', 'C3'],\n",
    "    'D': ['D0', 'D2', 'D3']\n",
    "}, index=['K0', 'K2', 'K3'])\n",
    "result_df = pd.concat([data1, data2], axis=1)\n",
    "\n",
    "print(result_df)"
   ],
   "metadata": {
    "collapsed": false,
    "ExecuteTime": {
     "end_time": "2024-03-13T21:01:54.874394500Z",
     "start_time": "2024-03-13T21:01:54.606637800Z"
    }
   },
   "id": "e199fce5aab6b185",
   "execution_count": 55
  },
  {
   "cell_type": "markdown",
   "source": [
    "14. Write a Pandas program to merge two given dataframes with different columns.\n",
    "Test Data:\n",
    "\n",
    "data1:\n",
    "\n",
    "  key1 key2   P   Q\n",
    "\n",
    "0   K0   K0  P0  Q0\n",
    "\n",
    "1   K0   K1  P1  Q1\n",
    "\n",
    "2   K1   K0  P2  Q2\n",
    "\n",
    "3   K2   K1  P3  Q3\n",
    "\n",
    "\n",
    "\n",
    "data2:\n",
    "\n",
    "  key1 key2   R   S\n",
    "\n",
    "0   K0   K0  R0  S0\n",
    "\n",
    "1   K1   K0  R1  S1\n",
    "\n",
    "2   K1   K0  R2  S2\n",
    "\n",
    "3   K2   K0  R3  S3\n",
    "\n"
   ],
   "metadata": {
    "collapsed": false
   },
   "id": "1fb78482b8fa9b21"
  },
  {
   "cell_type": "code",
   "outputs": [
    {
     "name": "stdout",
     "output_type": "stream",
     "text": [
      "  key1 key2   P   Q   R   S\n",
      "0   K0   K0  P0  Q0  R0  S0\n",
      "1   K1   K0  P2  Q2  R1  S1\n",
      "2   K1   K0  P2  Q2  R2  S2\n"
     ]
    }
   ],
   "source": [
    "data1 = pd.DataFrame({\n",
    "    'key1': ['K0', 'K0', 'K1', 'K2'],\n",
    "    'key2': ['K0', 'K1', 'K0', 'K1'],\n",
    "    'P': ['P0', 'P1', 'P2', 'P3'],\n",
    "    'Q': ['Q0', 'Q1', 'Q2', 'Q3']\n",
    "})\n",
    "\n",
    "data2 = pd.DataFrame({\n",
    "    'key1': ['K0', 'K1', 'K1', 'K2'],\n",
    "    'key2': ['K0', 'K0', 'K0', 'K0'],\n",
    "    'R': ['R0', 'R1', 'R2', 'R3'],\n",
    "    'S': ['S0', 'S1', 'S2', 'S3']\n",
    "})\n",
    "\n",
    "merged_data = pd.merge(data1, data2, on=['key1', 'key2'], how='inner')\n",
    "\n",
    "print(merged_data)"
   ],
   "metadata": {
    "collapsed": false,
    "ExecuteTime": {
     "end_time": "2024-03-13T21:01:54.973900900Z",
     "start_time": "2024-03-13T21:01:54.850887900Z"
    }
   },
   "id": "fe59fb89b2043c38",
   "execution_count": 56
  },
  {
   "cell_type": "markdown",
   "source": [
    "15. Write a Pandas program to Combine two DataFrame objects by filling null values in one DataFrame with non-null values from other DataFrame.\n",
    "Test Data:\n",
    "\n",
    "Original DataFrames:\n",
    "\n",
    "     A  B\n",
    "\n",
    "0  NaN  3\n",
    "\n",
    "1  0.0  4\n",
    "\n",
    "2  NaN  5\n",
    "\n",
    "\n",
    "\n",
    "  A    B\n",
    "\n",
    "0  1  3.0\n",
    "\n",
    "1  1  NaN\n",
    "\n",
    "2  3  3.0"
   ],
   "metadata": {
    "collapsed": false
   },
   "id": "81f2dbc10368f81f"
  },
  {
   "cell_type": "code",
   "outputs": [
    {
     "name": "stdout",
     "output_type": "stream",
     "text": [
      "Combined DataFrame:\n",
      "     A    B\n",
      "0  1.0  3.0\n",
      "1  0.0  4.0\n",
      "2  3.0  5.0\n"
     ]
    }
   ],
   "source": [
    "data1 = pd.DataFrame({'A': [np.nan, 0.0, np.nan], 'B': [3, 4, 5]})\n",
    "data2 = pd.DataFrame({'A': [1, 1, 3], 'B': [3.0, np.nan, 3.0]})\n",
    "\n",
    "combined_data = data1.combine_first(data2)\n",
    "\n",
    "print(\"Combined DataFrame:\")\n",
    "print(combined_data)"
   ],
   "metadata": {
    "collapsed": false,
    "ExecuteTime": {
     "end_time": "2024-03-13T21:01:55.021435100Z",
     "start_time": "2024-03-13T21:01:54.942594200Z"
    }
   },
   "id": "e51eac432a8b9a1f",
   "execution_count": 57
  },
  {
   "cell_type": "code",
   "outputs": [],
   "source": [],
   "metadata": {
    "collapsed": false,
    "ExecuteTime": {
     "end_time": "2024-03-13T21:01:55.119621600Z",
     "start_time": "2024-03-13T21:01:55.000383700Z"
    }
   },
   "id": "cd35d85bb1605465",
   "execution_count": 57
  }
 ],
 "metadata": {
  "kernelspec": {
   "display_name": "Python 3",
   "language": "python",
   "name": "python3"
  },
  "language_info": {
   "codemirror_mode": {
    "name": "ipython",
    "version": 2
   },
   "file_extension": ".py",
   "mimetype": "text/x-python",
   "name": "python",
   "nbconvert_exporter": "python",
   "pygments_lexer": "ipython2",
   "version": "2.7.6"
  }
 },
 "nbformat": 4,
 "nbformat_minor": 5
}
